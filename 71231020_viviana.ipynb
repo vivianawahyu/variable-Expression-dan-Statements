{
  "nbformat": 4,
  "nbformat_minor": 0,
  "metadata": {
    "colab": {
      "provenance": []
    },
    "kernelspec": {
      "name": "python3",
      "display_name": "Python 3"
    },
    "language_info": {
      "name": "python"
    }
  },
  "cells": [
    {
      "cell_type": "markdown",
      "source": [
        "Soal 1"
      ],
      "metadata": {
        "id": "xD8m06q8d_rc"
      }
    },
    {
      "cell_type": "code",
      "source": [
        "tinggi_badan = float(input(\"masukkan tinggi anda: \"))\n",
        "berat_badan = int(input(\"masukkan berat badan anda: \"))\n",
        "rumus = berat_badan / (tinggi_badan*tinggi_badan)\n",
        "print(\"BMI kamu adalah: \", round(rumus))"
      ],
      "metadata": {
        "colab": {
          "base_uri": "https://localhost:8080/"
        },
        "id": "IXjja9cpeBpA",
        "outputId": "eacd1d70-94fe-484e-e6c8-74913a30141b"
      },
      "execution_count": 1,
      "outputs": [
        {
          "output_type": "stream",
          "name": "stdout",
          "text": [
            "masukkan tinggi anda: 1.75\n",
            "masukkan berat badan anda: 58\n",
            "BMI kamu adalah:  19\n"
          ]
        }
      ]
    },
    {
      "cell_type": "markdown",
      "source": [
        "Soal 2"
      ],
      "metadata": {
        "id": "6g8UD-t9eNrs"
      }
    },
    {
      "cell_type": "code",
      "source": [
        "x = int(input(\"masukkan x \"))\n",
        "fungsi_x = (2 * x ** 3) + (2 * x) + (15/x)\n",
        "print(\"hasil fungsi: \", round(fungsi_x))"
      ],
      "metadata": {
        "colab": {
          "base_uri": "https://localhost:8080/"
        },
        "id": "QFdu7zx4ePVB",
        "outputId": "9df0bd9b-0c4f-4b79-d203-c36c26d12836"
      },
      "execution_count": 2,
      "outputs": [
        {
          "output_type": "stream",
          "name": "stdout",
          "text": [
            "masukkan x 12\n",
            "hasil fungsi:  3481\n"
          ]
        }
      ]
    },
    {
      "cell_type": "markdown",
      "source": [
        "Soal 3\n"
      ],
      "metadata": {
        "id": "5Q7q9eZjeZIQ"
      }
    },
    {
      "cell_type": "code",
      "source": [
        "gaji_per_jam = int(input(\"masukkan gaji budi per jam: \"))\n",
        "waktu_kerja = int(input(\"masukkan jumlah kerja budi seminggu: \"))\n",
        "\n",
        "gaji_kotor = (waktu_kerja * 5) * (gaji_per_jam)\n",
        "print(\"gaji budi sebelum kepotong pajak: \", gaji_kotor)\n",
        "\n",
        "besar_pajak = gaji_kotor * 0.14\n",
        "gaji_bersih = gaji_kotor - besar_pajak\n",
        "print (\"gaji budi setelah pajak: \", round(gaji_bersih))\n",
        "\n",
        "belanja_fashion = gaji_bersih * 0.1\n",
        "sisa_uang_1 = gaji_bersih - belanja_fashion\n",
        "print (\"uang yang dipakai budi untuk beli fashion: \", round(belanja_fashion))\n",
        "print (\"sisa uang budi setelah digunakan untuk beli fashion\",round(sisa_uang_1))\n",
        "\n",
        "belanja_atk = gaji_bersih * 0.01\n",
        "sisa_uang_2 = sisa_uang_1 - belanja_atk\n",
        "print (\"uang yg dipakai untuk beli atk: \", round ( belanja_atk) )\n",
        "print (\"sisa uang budi untuk beli fashion dan beli atk: \", round ( sisa_uang_2))\n",
        "\n",
        "sedekah_sisa_uang_budi = sisa_uang_2 * 0.02\n",
        "sisa_uang_3 = sisa_uang_2 - sedekah_sisa_uang_budi\n",
        "print (\"jumlah uang yg budi sedekahkan: \", round ( sedekah_sisa_uang_budi))\n",
        "print (\"sisa uang budi setelah sedekah: \", round(sisa_uang_3))\n",
        "\n",
        "setiap_seribu = sedekah_sisa_uang_budi\n",
        "while setiap_seribu % 1000 == 0 and setiap_seribu >= 1000 or setiap_seribu % 1000 != 0 and setiap_seribu>= 1000:\n",
        "    setiap_seribu -= 1000\n",
        "\n",
        "sedekah_yatim = (sedekah_sisa_uang_budi - setiap_seribu) * 0.3\n",
        "sedekah_dhuafa = (sedekah_sisa_uang_budi - setiap_seribu) * 0.7\n",
        "\n",
        "print(\"Sedekah untuk yatim: \",round (sedekah_yatim))\n",
        "print(\"Sedekah untuk dhuafa: \", round (sedekah_dhuafa))"
      ],
      "metadata": {
        "colab": {
          "base_uri": "https://localhost:8080/"
        },
        "id": "v_ZQURQWebEc",
        "outputId": "0e97f92a-ee4e-471b-9aa2-5760eaa6e9e8"
      },
      "execution_count": 3,
      "outputs": [
        {
          "output_type": "stream",
          "name": "stdout",
          "text": [
            "masukkan gaji budi per jam: 10000\n",
            "masukkan jumlah kerja budi seminggu: 12\n",
            "gaji budi sebelum kepotong pajak:  600000\n",
            "gaji budi setelah pajak:  516000\n",
            "uang yang dipakai budi untuk beli fashion:  51600\n",
            "sisa uang budi setelah digunakan untuk beli fashion 464400\n",
            "uang yg dipakai untuk beli atk:  5160\n",
            "sisa uang budi untuk beli fashion dan beli atk:  459240\n",
            "jumlah uang yg budi sedekahkan:  9185\n",
            "sisa uang budi setelah sedekah:  450055\n",
            "Sedekah untuk yatim:  2700\n",
            "Sedekah untuk dhuafa:  6300\n"
          ]
        }
      ]
    },
    {
      "cell_type": "markdown",
      "source": [],
      "metadata": {
        "id": "eJu-5bhfeZER"
      }
    }
  ]
}